version https://git-lfs.github.com/spec/v1
oid sha256:f52e37bae21b9cf4af6e3a0d9cc378d68b4e34fadca1661de73c5125a7a06b7f
size 686
